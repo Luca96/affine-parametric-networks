version https://git-lfs.github.com/spec/v1
oid sha256:ebfc220ca963a634c35f5bfb273610384ea373b095afc89e01a39362785f8dbd
size 8205083
