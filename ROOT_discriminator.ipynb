{
 "cells": [
  {
   "cell_type": "code",
   "execution_count": 1,
   "metadata": {},
   "outputs": [
    {
     "name": "stdout",
     "output_type": "stream",
     "text": [
      "Welcome to JupyROOT 6.24/06\n"
     ]
    }
   ],
   "source": [
    "import ROOT\n",
    "\n",
    "import pandas as pd\n",
    "import uproot\n",
    "import os"
   ]
  },
  {
   "cell_type": "code",
   "execution_count": 2,
   "metadata": {},
   "outputs": [],
   "source": [
    "hood = []\n",
    "data_hood = []\n",
    "\n",
    "masses = [130,150,170,200,250,300,350,400,450,500,600,700,800,1000,1200,1500]\n",
    "tanbetas = [2,5,10,15,20,25,30,40,50,60]\n",
    "dibosons = ['WWTo2L2Nu','WZTo3LNu','ZZTo2L2Nu','ZZTo4L']\n",
    "singletops = ['s-channel','t-channel_antitop','t-channel_top','tW_antitop','tW_top']\n",
    "bkgttbar_treename = 'background_treeTTbar_UL2016'\n",
    "ttbar_binned = ['Incl_700to1000','Incl_1000toInf']\n",
    "bkgDY_treename = 'background_treeDY_UL2016'\n",
    "DY_binned = ['ZMM_50to120','ZMM_120to200','ZMM_200to400','ZMM_400to800','ZMM_800to1400','ZMM_1400to2300']\n",
    "datas = ['B','C','D','E','F','G','H']\n",
    "\n",
    "for mA in masses:\n",
    "    for tanb in tanbetas:\n",
    "        sgn_treename = 'signal_treeMSSM_bbA_mA' + str(mA) + '_tanb' + str(tanb) + '_UL2016'\n",
    "        sgn_treename2 = 'signal_treeMSSM_bbH_mA' + str(mA) + '_tanb' + str(tanb) + '_UL2016'\n",
    "        sgn_treename3 = 'signal_treeMSSM_ggA_mA' + str(mA) + '_tanb' + str(tanb) + '_UL2016'\n",
    "        sgn_treename4 = 'signal_treeMSSM_ggH_mA' + str(mA) + '_tanb' + str(tanb) + '_UL2016'\n",
    "        hood.append(sgn_treename)\n",
    "        hood.append(sgn_treename2)\n",
    "        hood.append(sgn_treename3)\n",
    "        hood.append(sgn_treename4)\n",
    "\n",
    "for diboson in dibosons:\n",
    "    bkgdiboson_treename = 'background_treediboson_' + diboson + '_UL2016'\n",
    "    hood.append(bkgdiboson_treename)\n",
    "\n",
    "for st in singletops:\n",
    "    bkgst_treename = 'background_treeST_' + st + '_UL2016'\n",
    "    hood.append(bkgst_treename)\n",
    "    \n",
    "hood.append(bkgttbar_treename)\n",
    "hood.append(bkgDY_treename)\n",
    "\n",
    "for ttbar in ttbar_binned:\n",
    "    bkgttbar_binned_treename = 'background_treeTTbar' + ttbar + '_UL2016'\n",
    "    hood.append(bkgttbar_binned_treename)\n",
    "    \n",
    "for dy in DY_binned:\n",
    "    bkgdy_binned_treename = 'background_tree' + dy + '_UL2016'\n",
    "    hood.append(bkgdy_binned_treename)\n",
    "\n",
    "for data in datas:\n",
    "    data_treename = 'background_treeULRun2016' + data\n",
    "    data_hood.append(data_treename) "
   ]
  },
  {
   "cell_type": "code",
   "execution_count": 4,
   "metadata": {},
   "outputs": [
    {
     "name": "stdout",
     "output_type": "stream",
     "text": [
      "Reading trees signal_treeMSSM_bbH_mA150_tanb50_UL2016 in file Out_MSSM_bbH_mA150_tanb50_UL2016.root\n"
     ]
    }
   ],
   "source": [
    "fname = './root_file/'\n",
    "fileIn = fname\n",
    "valid_header=['mA', 'training', 'dimuon_deltar', 'dimuon_deltaphi', 'dimuon_deltaeta', 'dimuon_mass', 'dimuon_pt', 'met_pt', 'met_phi', 'met_eta', 'bjet_n', 'bjet_1_pt', 'bjet_1_eta', 'jetfwd_n', 'ljet_n', 'ljet_1_pt', 'ljet_1_eta', 'deltar_bjet1_dimuon', 'deltapt_bjet1_dimuon', 'deltaeta_bjet1_dimuon', 'deltaphi_bjet1_dimuon', 'PU_Weight']\n",
    "\n",
    "for tree in hood:\n",
    "    for file in os.listdir(fileIn):\n",
    "        if tree.split('_')[0] == 'signal':\n",
    "            if file.split('_')[2] == 'bbH' or file.split('_')[2] == 'bbA':\n",
    "                if file.split('_')[1] + '_' + file.split('_')[2] + '_' + file.split('_')[3] + '_' + file.split('_')[4] != tree.split('_')[1][4:8] + '_' + tree.split('_')[2] + '_' + tree.split('_')[3] + '_' + tree.split('_')[4]:\n",
    "                    continue\n",
    "                print (\"Reading trees {} in file {}\".format(tree, file))\n",
    "                data = uproot.open(fname + file)[tree]\n",
    "                out = data.arrays(valid_header, library=\"pd\")\n",
    "        if tree.split('_')[0] == 'background':\n",
    "            if file.split('_')[1] == 'diboson':\n",
    "                if file.split('_')[1] + file.split('_')[2] != tree.split('_')[1][4:11] + tree.split('_')[2]:\n",
    "                    continue\n",
    "                print (\"Reading trees {} in file {}\".format(tree, file))\n",
    "                data = uproot.open(fname + file)[tree]\n",
    "                out = data.arrays(valid_header, library=\"pd\")\n",
    "            elif file.split('_')[1] == 'ST':\n",
    "                if file.split('_')[2:-1] != tree.split('_')[2:-1]:\n",
    "                    continue\n",
    "                print (\"Reading trees {} in file {}\".format(tree, file))\n",
    "                data = uproot.open(fname + file)[tree]\n",
    "                out = data.arrays(valid_header, library=\"pd\")\n",
    "            elif file.split('_')[1] == 'DY':\n",
    "                if file.split('_')[1] != tree.split('_')[1][4:6]:\n",
    "                    continue\n",
    "                print (\"Reading trees {} in file {}\".format(tree, file))\n",
    "                data = uproot.open(fname + file)[tree]\n",
    "                out = data.arrays(valid_header, library=\"pd\")\n",
    "            elif file.split('_')[1] == 'TTbarIncl':\n",
    "                if file.split('_')[1] != tree.split('_')[1][4:13]:\n",
    "                    continue\n",
    "                if file.split('_')[2] != tree.split('_')[2]:\n",
    "                    continue\n",
    "                print (\"Reading trees {} in file {}\".format(tree, file))\n",
    "                data = uproot.open(fname + file)[tree]\n",
    "                out = data.arrays(valid_header, library=\"pd\")\n",
    "            elif file.split('_')[1] == 'TTbar':\n",
    "                if file.split('_')[1] != tree.split('_')[1][4:9] or tree.split('_')[1][4:13]==\"TTbarIncl\":\n",
    "                    continue\n",
    "                print (\"Reading trees {} in file {}\".format(tree, file))\n",
    "                data = uproot.open(fname + file)[tree]\n",
    "                out = data.arrays(valid_header, library=\"pd\")\n",
    "            elif file.split('_')[1] == 'ZMM':\n",
    "                if file.split('_')[1] != tree.split('_')[1][4:7]:\n",
    "                    continue\n",
    "                if file.split('_')[2] != tree.split('_')[2]:\n",
    "                    continue\n",
    "                print (\"Reading trees {} in file {}\".format(tree, file))\n",
    "                data = uproot.open(fname + file)[tree]\n",
    "                out = data.arrays(valid_header, library=\"pd\")\n",
    "        \n",
    "        #From here, for each root file, you have out as your pandas df\n",
    "        #...\n"
   ]
  },
  {
   "cell_type": "code",
   "execution_count": null,
   "metadata": {},
   "outputs": [],
   "source": []
  },
  {
   "cell_type": "code",
   "execution_count": null,
   "metadata": {},
   "outputs": [],
   "source": []
  },
  {
   "cell_type": "code",
   "execution_count": null,
   "metadata": {},
   "outputs": [],
   "source": []
  },
  {
   "cell_type": "code",
   "execution_count": null,
   "metadata": {},
   "outputs": [],
   "source": [
    "#Loop for data\n",
    "\n",
    "for tree in data_hood: \n",
    "    for file in os.listdir(fileIn): \n",
    "        if tree.split('_')[0] == 'background': \n",
    "            if file.split('_')[1][2:9] == 'Run2016':     \n",
    "                if file.split('_')[1][2:10] != tree.split('_')[1][6:14]:\n",
    "                    continue\n",
    "                print (\"Reading trees {} in file {}\".format(tree, file))\n",
    "                data = uproot.open(fname + file)[tree]\n",
    "                out = data.arrays(valid_header, library=\"pd\")\n",
    "                out.to_csv(\"./output_csv/\" + file.split(\".\")[0] + \".csv\") \n"
   ]
  }
 ],
 "metadata": {
  "kernelspec": {
   "display_name": "Python 3",
   "language": "python",
   "name": "python3"
  },
  "language_info": {
   "codemirror_mode": {
    "name": "ipython",
    "version": 3
   },
   "file_extension": ".py",
   "mimetype": "text/x-python",
   "name": "python",
   "nbconvert_exporter": "python",
   "pygments_lexer": "ipython3",
   "version": "3.8.12"
  }
 },
 "nbformat": 4,
 "nbformat_minor": 2
}
