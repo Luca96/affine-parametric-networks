version https://git-lfs.github.com/spec/v1
oid sha256:8b72f875045274ee4efc11fb9cddec50cfb6ac92537d2110c5cf1dc684067b1d
size 19777247
