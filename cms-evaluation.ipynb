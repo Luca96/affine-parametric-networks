version https://git-lfs.github.com/spec/v1
oid sha256:55d1021f1ca2bd68fcb16be11b0481db21fb5d1d5e89fb25c9e0858a3f001717
size 12770462
