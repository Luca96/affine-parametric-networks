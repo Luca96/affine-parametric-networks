version https://git-lfs.github.com/spec/v1
oid sha256:7388b062d9845bd1fe7d46510cc5e18777fb4b17481af27762c3d723508fec4e
size 8168893
