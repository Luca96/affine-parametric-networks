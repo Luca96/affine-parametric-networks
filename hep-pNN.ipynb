version https://git-lfs.github.com/spec/v1
oid sha256:4abe88801c7583cd522384d2024f91299ff3b2e65d8fd4e403920604e100d630
size 3064567
