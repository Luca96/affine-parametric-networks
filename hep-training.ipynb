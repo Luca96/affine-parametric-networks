version https://git-lfs.github.com/spec/v1
oid sha256:05b7b8dfeed0948a53be80ccdda3c325b08e47c435268ca359f998445035d933
size 4411804
