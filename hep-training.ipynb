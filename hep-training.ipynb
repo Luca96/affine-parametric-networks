version https://git-lfs.github.com/spec/v1
oid sha256:dcddc860777cd79e7cf517b65a21c0e65e9c3bfee0316c976775ae4b226b08ca
size 2302738
