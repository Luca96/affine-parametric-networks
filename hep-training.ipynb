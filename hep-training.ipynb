version https://git-lfs.github.com/spec/v1
oid sha256:453b3ec566d46a65e37847059ba377659dfbff9c380051173f9aa4f72e52b022
size 4162000
