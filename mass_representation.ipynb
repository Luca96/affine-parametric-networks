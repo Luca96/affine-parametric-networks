version https://git-lfs.github.com/spec/v1
oid sha256:533fb82a55fb0b040f2695a08575f5bfd7e7d5bb6660b8c56b3c7005c8666cc6
size 6718655
