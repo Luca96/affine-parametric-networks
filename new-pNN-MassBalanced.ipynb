{
 "cells": [
  {
   "cell_type": "markdown",
   "metadata": {},
   "source": [
    "## Mass-balanced pNN"
   ]
  },
  {
   "cell_type": "code",
   "execution_count": null,
   "metadata": {},
   "outputs": [],
   "source": [
    "import os\n",
    "import numpy as np\n",
    "import pandas as pd\n",
    "import tensorflow as tf\n",
    "import matplotlib.pyplot as plt\n",
    "import seaborn as sns\n",
    "\n",
    "from tensorflow.keras.callbacks import EarlyStopping\n",
    "\n",
    "from sklearn.model_selection import train_test_split\n",
    "from sklearn.metrics import precision_recall_curve, roc_curve, average_precision_score, roc_auc_score\n",
    "\n",
    "from script import utils, cms\n",
    "from script.utils import free_mem\n",
    "from script.models import FocalLoss\n",
    "from script.cms.data import MassBalancedSequence\n",
    "\n",
    "from script.datasets import Dataset\n",
    "\n",
    "sns.set()"
   ]
  },
  {
   "cell_type": "code",
   "execution_count": null,
   "metadata": {},
   "outputs": [],
   "source": [
    "# for debugging, comment if not needed\n",
    "%load_ext autoreload\n",
    "%autoreload 2"
   ]
  },
  {
   "cell_type": "code",
   "execution_count": null,
   "metadata": {},
   "outputs": [],
   "source": [
    "utils.set_random_seed(42)"
   ]
  },
  {
   "cell_type": "code",
   "execution_count": null,
   "metadata": {},
   "outputs": [],
   "source": [
    "INTERVALS = [(115, 180),   # 130\n",
    "             (115, 200),   # 150\n",
    "             (120, 220),   # 170\n",
    "             (150, 250),   # 200\n",
    "             (200, 300),   # 250\n",
    "             (225, 375),   # 300\n",
    "             (275, 425),   # 350\n",
    "             (300, 500),   # 400\n",
    "             (350, 550),   # 450\n",
    "             (350, 650),   # 500\n",
    "             (400, 800),   # 600\n",
    "             (500, 900),   # 700\n",
    "             (600, 1000),  # 800\n",
    "             (700, 1800),  # 1000\n",
    "             (700, 1800),  # 1200\n",
    "             (700, 1800)]  # 1500"
   ]
  },
  {
   "cell_type": "markdown",
   "metadata": {},
   "source": [
    "## Category 1"
   ]
  },
  {
   "cell_type": "code",
   "execution_count": null,
   "metadata": {},
   "outputs": [],
   "source": [
    "# divide background samples into \"train\" and \"test\"\n",
    "b = pd.read_csv('data/new2/background_cat1.csv')\n",
    "\n",
    "# save to disk\n",
    "b[b.index % 2 == 0].to_csv('data/new2/background_cat1_train.csv', index=False)\n",
    "b[b.index % 2 == 1].to_csv('data/new2/background_cat1_test.csv', index=False)"
   ]
  },
  {
   "cell_type": "code",
   "execution_count": null,
   "metadata": {},
   "outputs": [],
   "source": [
    "# divide signal samples into \"train\" and \"test\"\n",
    "s = pd.read_csv('data/new2/signal_bassociated_cat1.csv')\n",
    "\n",
    "# rename \"dimuon_mass\" to \"dimuon_M\"\n",
    "s.rename(columns={'dimuon_mass': 'dimuon_M'}, inplace=True)\n",
    "\n",
    "# save to disk\n",
    "cols = [s.columns[0]] + list(s.columns[2:])  # remove \"training\" column\n",
    "\n",
    "s[s['training'] == 3][cols].to_csv('data/new2/signal_bassociated_cat1_train.csv', index=False)\n",
    "s[s['training'] == 2][cols].to_csv('data/new2/signal_bassociated_cat1_test.csv', index=False)"
   ]
  },
  {
   "cell_type": "markdown",
   "metadata": {},
   "source": [
    "---"
   ]
  },
  {
   "cell_type": "code",
   "execution_count": null,
   "metadata": {},
   "outputs": [],
   "source": [
    "VAR_CAT1 = [\"dimuon_deltar\", \"dimuon_deltaphi\", \"dimuon_deltaeta\", \"met_pt\", \n",
    "             \"deltar_bjet1_dimuon\", \"deltapt_bjet1_dimuon\", \"deltaeta_bjet1_dimuon\", \n",
    "             \"bjet_1_pt\", \"bjet_1_eta\", \"deltaphi_bjet1_dimuon\",\n",
    "             \"ljet_1_pt\", \"ljet_1_eta\", \"bjet_n\", \"ljet_n\"]"
   ]
  },
  {
   "cell_type": "code",
   "execution_count": null,
   "metadata": {},
   "outputs": [],
   "source": [
    "# load training data\n",
    "data = Dataset()\n",
    "data.load(signal='data/new2/signal_bassociated_cat1_train.csv', \n",
    "          bkg='data/new2/background_cat1_train.csv', feature_columns=VAR_CAT1)\n",
    "\n",
    "data.mass_intervals = INTERVALS"
   ]
  },
  {
   "cell_type": "code",
   "execution_count": null,
   "metadata": {},
   "outputs": [],
   "source": [
    "# add a new column \"sample_weights\" just for training weights\n",
    "data.signal['sample_weights'] = data.signal['PU_Weight'].abs() * 0.99\n",
    "data.background['sample_weights'] = data.background['PU_Weight'].abs() * 0.99"
   ]
  },
  {
   "cell_type": "code",
   "execution_count": null,
   "metadata": {},
   "outputs": [],
   "source": [
    "train, valid = MassBalancedSequence.get_data(data, num_splits=2, case=2, train_batch=1024,\n",
    "                                             weight_column='sample_weights')"
   ]
  },
  {
   "cell_type": "code",
   "execution_count": null,
   "metadata": {},
   "outputs": [],
   "source": [
    "model, checkpoint = utils.get_compiled_pnn(data, save='tmp/pnn-mass_bal-cat_1-case_2')"
   ]
  },
  {
   "cell_type": "code",
   "execution_count": null,
   "metadata": {},
   "outputs": [],
   "source": [
    "model.fit(x=train, epochs=100, validation_data=valid, verbose=2, callbacks=[checkpoint])"
   ]
  },
  {
   "cell_type": "code",
   "execution_count": null,
   "metadata": {},
   "outputs": [],
   "source": [
    "utils.load_from_checkpoint(model, path='tmp/pnn-mass_bal-cat_1-case_2')"
   ]
  },
  {
   "cell_type": "markdown",
   "metadata": {},
   "source": [
    "Evaluation:"
   ]
  },
  {
   "cell_type": "code",
   "execution_count": null,
   "metadata": {},
   "outputs": [],
   "source": [
    "test = Dataset()\n",
    "test.load(signal='data/new2/signal_bassociated_cat1_test.csv', \n",
    "          bkg='data/new2/background_cat1_test.csv', feature_columns=VAR_CAT1)\n",
    "\n",
    "# prepare weights for test-only\n",
    "test.signal['test_weights'] = test.signal['PU_Weight'].abs() * 0.99\n",
    "test.background['test_weights'] = test.background['PU_Weight'].abs() * 0.99 * test.background['weight']\n",
    "\n",
    "test.mass_intervals = INTERVALS"
   ]
  },
  {
   "cell_type": "code",
   "execution_count": null,
   "metadata": {},
   "outputs": [],
   "source": [
    "test_mass = test.unique_signal_mass\n",
    "test_intervals = test.mass_intervals\n",
    "model_and_data = {'case-2': (model, test)}\n",
    "targs = dict(weight_column='test_weights')"
   ]
  },
  {
   "cell_type": "code",
   "execution_count": null,
   "metadata": {},
   "outputs": [],
   "source": [
    "test_ds = MassBalancedSequence(signal=test.signal, background=test.background, batch_size=1024, \n",
    "                               features=VAR_CAT1, balance=False, weight_column='test_weights', \n",
    "                               sample_mass=False, intervals=INTERVALS)\n",
    "test_ds = test_ds.to_tf_dataset()"
   ]
  },
  {
   "cell_type": "code",
   "execution_count": null,
   "metadata": {},
   "outputs": [],
   "source": [
    "_ = model.evaluate(x=test_ds, verbose=2)"
   ]
  },
  {
   "cell_type": "code",
   "execution_count": null,
   "metadata": {},
   "outputs": [],
   "source": [
    "cms.plot.significance_ratio_vs_mass(model_and_data, title='Category-1, bbA+bbH', **targs)"
   ]
  },
  {
   "cell_type": "code",
   "execution_count": null,
   "metadata": {},
   "outputs": [],
   "source": [
    "ams, cuts = cms.plot._compute_significance(model, test, **targs)"
   ]
  },
  {
   "cell_type": "code",
   "execution_count": null,
   "metadata": {},
   "outputs": [],
   "source": [
    "cms.plot.curve_vs_mass(model_and_data, bins=20, title='pNN [category-1, bbA+bbH]', auc=False, \n",
    "                       curve='ROC', **targs)"
   ]
  },
  {
   "cell_type": "code",
   "execution_count": null,
   "metadata": {},
   "outputs": [],
   "source": [
    "cms.plot.curve_vs_mass(model_and_data, bins=20, title='pNN [category-1, bbA+bbH]', auc=False, \n",
    "                       curve='PR', **targs)"
   ]
  },
  {
   "cell_type": "code",
   "execution_count": null,
   "metadata": {
    "scrolled": true,
    "tags": []
   },
   "outputs": [],
   "source": [
    "for mass, interval in zip(test_mass, test_intervals):\n",
    "    cms.plot.significance(model, test, mass=mass, interval=interval, **targs)"
   ]
  },
  {
   "cell_type": "code",
   "execution_count": null,
   "metadata": {
    "scrolled": true,
    "tags": []
   },
   "outputs": [],
   "source": [
    "for mass, interval, cut in zip(test_mass, test_intervals, cuts):\n",
    "    cms.plot.compare_roc(test, {'case-2': (model, cut)}, mass=mass, interval=interval, **targs)"
   ]
  },
  {
   "cell_type": "code",
   "execution_count": null,
   "metadata": {
    "scrolled": true,
    "tags": []
   },
   "outputs": [],
   "source": [
    "for mass, interval, cut in zip(test_mass, test_intervals, cuts):\n",
    "    cms.plot.compare_pr(test, {'case-2': (model, cut)}, mass=mass, interval=interval, **targs)"
   ]
  },
  {
   "cell_type": "code",
   "execution_count": null,
   "metadata": {
    "scrolled": true,
    "tags": []
   },
   "outputs": [],
   "source": [
    "for mass, interval, cut in zip(test_mass, test_intervals, cuts):\n",
    "    cms.plot.variables(test, model, mass=mass, cut=cut, share_y=True,\n",
    "                            variables=VAR_CAT1 + ['dimuon_pt', 'dimuon_M'], **targs)"
   ]
  },
  {
   "cell_type": "markdown",
   "metadata": {},
   "source": [
    "---\n",
    "## Category 2"
   ]
  },
  {
   "cell_type": "code",
   "execution_count": null,
   "metadata": {},
   "outputs": [],
   "source": []
  }
 ],
 "metadata": {
  "kernelspec": {
   "display_name": "Python 3",
   "language": "python",
   "name": "python3"
  },
  "language_info": {
   "codemirror_mode": {
    "name": "ipython",
    "version": 3
   },
   "file_extension": ".py",
   "mimetype": "text/x-python",
   "name": "python",
   "nbconvert_exporter": "python",
   "pygments_lexer": "ipython3",
   "version": "3.8.0"
  }
 },
 "nbformat": 4,
 "nbformat_minor": 4
}
