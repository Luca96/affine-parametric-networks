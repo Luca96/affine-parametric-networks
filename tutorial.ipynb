version https://git-lfs.github.com/spec/v1
oid sha256:91bce6da7ce5d8a94e584a3c13e023056131881a137484924f04731a3ed2e111
size 3263486
