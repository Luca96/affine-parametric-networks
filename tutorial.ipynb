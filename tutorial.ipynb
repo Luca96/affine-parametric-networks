version https://git-lfs.github.com/spec/v1
oid sha256:fbd965a8c2cf0e79ec7c99fac93c8419706f0e7fd1f95fa267077f0a7facb529
size 3262407
