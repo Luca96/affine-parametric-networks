version https://git-lfs.github.com/spec/v1
oid sha256:2c0c0ffd0970d9936b7c233d7e1d3467aae7f60f27b6ef186b97c868cb8a09f8
size 2737368
